{
  "nbformat": 4,
  "nbformat_minor": 0,
  "metadata": {
    "colab": {
      "provenance": [],
      "authorship_tag": "ABX9TyNR53XCHyvHrUgdk0VS3+BP",
      "include_colab_link": true
    },
    "kernelspec": {
      "name": "python3",
      "display_name": "Python 3"
    },
    "language_info": {
      "name": "python"
    }
  },
  "cells": [
    {
      "cell_type": "markdown",
      "metadata": {
        "id": "view-in-github",
        "colab_type": "text"
      },
      "source": [
        "<a href=\"https://colab.research.google.com/github/BrunoABatista94/-NF3-BIG-DATA-Bruno-Alves-Batista/blob/main/NF3_BIG_DATA.ipynb\" target=\"_parent\"><img src=\"https://colab.research.google.com/assets/colab-badge.svg\" alt=\"Open In Colab\"/></a>"
      ]
    },
    {
      "cell_type": "code",
      "execution_count": null,
      "metadata": {
        "id": "2FbmsZx1xdGO"
      },
      "outputs": [],
      "source": [
        "# 1. Obtenha o dataset do endereço https://www.w3resource.com/pythonexercises/pandas/filter/world_alcohol.csv\n",
        "#    e realize as seguintes análises\n",
        "\n",
        "import pandas as pd\n",
        "df = pd.read_csv('world_alcohol.csv')\n",
        "df"
      ]
    },
    {
      "cell_type": "code",
      "source": [
        "# A) Agrupe os dados por tipo de bebidas;\n",
        "\n",
        "df.groupby('Beverage Types')"
      ],
      "metadata": {
        "id": "rKknWqhJxyYZ"
      },
      "execution_count": null,
      "outputs": []
    },
    {
      "cell_type": "code",
      "source": [
        "# B) Agrupe os dados por Região e por Ano;\n",
        "\n",
        "df.groupby('WHO region')['Year']"
      ],
      "metadata": {
        "id": "MgzTkpNPx3rl"
      },
      "execution_count": null,
      "outputs": []
    },
    {
      "cell_type": "code",
      "source": [
        "# C) Seção de Contagens: Contar a ocorrência de Regiões, de Países e a soma da coluna de valores por Bebida.\n",
        "\n",
        "# Contar a ocorrência de Regiões, de Países\n",
        "df [['WHO region','Country']].value_counts()\n"
      ],
      "metadata": {
        "id": "hS9HZpJCx8hQ"
      },
      "execution_count": null,
      "outputs": []
    },
    {
      "cell_type": "code",
      "source": [
        "# Soma da coluna de valores por Bebida\n",
        "soma_bebida = df.groupby('Beverage Types')['Display Value'].sum()\n",
        "soma_bebida"
      ],
      "metadata": {
        "id": "5I2dPvU2yC97"
      },
      "execution_count": null,
      "outputs": []
    },
    {
      "cell_type": "code",
      "source": [
        "# D) Realize análises estatísticas da coluna dos valores: Média, Moda, Mediana, Estatística\n",
        "#    Descritiva e Gráfico de comparação dos valores agrupados por tipo de bebida.\n",
        "\n",
        "#  Média\n",
        "media = df['Display Value'].mean()\n",
        "print('\\n Média\\n',media)\n",
        "print('\\n')\n",
        "\n",
        "# Moda\n",
        "moda = df['Display Value'].mode()\n",
        "print('Moda \\n',moda)\n",
        "print('\\n')\n",
        "\n",
        "# Mediana\n",
        "mediana = df['Display Value'].median()\n",
        "print('Mediana \\n',mediana)\n",
        "print('\\n')\n",
        "\n",
        "# Estatística Descritiva\n",
        "estatistica_descritiva = df['Display Value'].describe()\n",
        "print('Estatística Descritiva \\n',estatistica_descritiva)\n",
        "print('\\n')"
      ],
      "metadata": {
        "id": "sF1sZsyYyOsp"
      },
      "execution_count": null,
      "outputs": []
    },
    {
      "cell_type": "code",
      "source": [
        "# Gráfico de comparação dos valores agrupados por tipo de bebida\n",
        "import matplotlib.pyplot as plot\n",
        "\n",
        "\n",
        "soma_bebida = df.groupby('Beverage Types')['Display Value'].mean()\n",
        "soma_bebida.plot.bar(x='Beverage Types')\n",
        "plot.xlabel('Tipos de Bebidas')\n",
        "plot.ylabel('Valores da Bebida')"
      ],
      "metadata": {
        "id": "HwIRcuCQyWOT"
      },
      "execution_count": null,
      "outputs": []
    },
    {
      "cell_type": "code",
      "source": [
        "# E) Mostre resultados de acordo com alguns critérios:\n",
        "\n",
        "# i. Mostrar a coluna de bebidas do ano de 1985.\n",
        "\n",
        "Bebidas_Ano_1985 = df[df['Year'] == 1985][['Beverage Types']]\n",
        "Bebidas_Ano_1985"
      ],
      "metadata": {
        "id": "ceiIE72Cy5O6"
      },
      "execution_count": null,
      "outputs": []
    },
    {
      "cell_type": "code",
      "source": [
        "# ii. Mostrar a coluna de Região com valores acima de 4.\n",
        "\n",
        "Regiao_Valores = df[df['Display Value'] > 4][['WHO region']]\n",
        "Regiao_Valores"
      ],
      "metadata": {
        "id": "R9B0o6CIzGZu"
      },
      "execution_count": null,
      "outputs": []
    },
    {
      "cell_type": "code",
      "source": [
        "#  2. Seja o dataset chamado cursos-prouni.csv que se encontra no endereço Cursos e notas de corte do PROUNI 2018 - Datasets - Brasil.IO.\n",
        "\n",
        "import pandas as pd\n",
        "df = pd.read_csv('https://raw.githubusercontent.com/BrunoABatista94/-NF3-BIG-DATA-Bruno-Alves-Batista/main/cursos-prouni.csv',encoding= 'latin-1', sep = ',')\n",
        "\n",
        "df ['curso_busca'] = df['curso_busca'].str.replace('MatemÃ¡tica','Matemática')\n",
        "df ['grau'] = df['grau'].str.replace('TecnolÃ³gico','Tecnológico')\n",
        "df\n"
      ],
      "metadata": {
        "id": "qaC8niAKzNSZ"
      },
      "execution_count": null,
      "outputs": []
    },
    {
      "cell_type": "code",
      "source": [
        "# A) Efetuar a limpeza das colunas de notas: onde tiver NaN (Not a Number), substituir por 0,0.\n",
        "\n",
        "\n",
        "df['nota_integral_ampla'].fillna(0.0,inplace = True)\n",
        "df['nota_integral_cotas'].fillna(0.0,inplace = True)\n",
        "df['nota_parcial_ampla'].fillna(0.0,inplace = True)\n",
        "df['nota_parcial_cotas'].fillna(0.0,inplace = True)\n",
        "df"
      ],
      "metadata": {
        "id": "HupvQlW3zhc9"
      },
      "execution_count": null,
      "outputs": []
    },
    {
      "cell_type": "code",
      "source": [
        "# B) Agrupe os dados pelo grau (Bacharelado, Licenciatura, etc).\n",
        "\n",
        "grau = df.groupby('grau')"
      ],
      "metadata": {
        "id": "54vsSfxKzpeo"
      },
      "execution_count": 32,
      "outputs": []
    },
    {
      "cell_type": "code",
      "source": [
        "# C) Agrupe os dados pelos cursos de Matemática, Medicina e Pedagogia.\n",
        "\n",
        "cursos = df.groupby('curso_busca')"
      ],
      "metadata": {
        "id": "62JJMkQsz8UN"
      },
      "execution_count": 33,
      "outputs": []
    },
    {
      "cell_type": "code",
      "source": [
        "# Agrupando o curso de Matemática\n",
        "cursos.get_group('Matemática')"
      ],
      "metadata": {
        "id": "OkMHqz7U0BNk"
      },
      "execution_count": null,
      "outputs": []
    },
    {
      "cell_type": "code",
      "source": [
        "# Agrupando o curso de Medicina\n",
        "cursos.get_group('Medicina')"
      ],
      "metadata": {
        "id": "qjDu-grZ0H2z"
      },
      "execution_count": null,
      "outputs": []
    },
    {
      "cell_type": "code",
      "source": [
        "# Agrupando o curso de Pedagogia\n",
        "cursos.get_group('Pedagogia')"
      ],
      "metadata": {
        "id": "KIFznT1e0OHw"
      },
      "execution_count": null,
      "outputs": []
    },
    {
      "cell_type": "code",
      "source": [
        "# D) Agrupe os dados por Estado e obtenha a média de notas de corte por Estado.\n",
        "\n",
        "df.groupby('uf_busca')['nota_integral_ampla'].mean()"
      ],
      "metadata": {
        "id": "d_2q96Je0XBI"
      },
      "execution_count": null,
      "outputs": []
    },
    {
      "cell_type": "code",
      "source": [
        "# E) Agrupe os dados pelos cursos Tecnológicos.\n",
        "\n",
        "grau.get_group('Tecnológico')"
      ],
      "metadata": {
        "id": "tx0NJPCC0dq-"
      },
      "execution_count": null,
      "outputs": []
    },
    {
      "cell_type": "code",
      "source": [
        "# F) Elimine a coluna “cidade_filtro” do dataframe.\n",
        "\n",
        "df.drop('cidade_filtro', axis=1, inplace=True)"
      ],
      "metadata": {
        "id": "5tlgUbLx0sNR"
      },
      "execution_count": 39,
      "outputs": []
    },
    {
      "cell_type": "code",
      "source": [
        "# G) Apresente a média das mensalidades dos cursos de Medicina.\n",
        "\n",
        "media_mensali_medicina = cursos.get_group('Medicina')['mensalidade'].mean()\n",
        "media_mensali_medicina"
      ],
      "metadata": {
        "id": "6iBhVxYG0yZT"
      },
      "execution_count": null,
      "outputs": []
    },
    {
      "cell_type": "code",
      "source": [
        "# H) Média das notas de corte dos cursos de tempo integral.\n",
        "\n",
        "turno = df.groupby('turno')\n",
        "\n",
        "media_curso_tempo_integral = turno.get_group('Integral')['nota_integral_ampla'].mean()\n",
        "media_curso_tempo_integral"
      ],
      "metadata": {
        "id": "qDUzbzme05HW"
      },
      "execution_count": null,
      "outputs": []
    },
    {
      "cell_type": "code",
      "source": [
        "# I) Estatística Descritiva das Notas Integral Ampla dos cursos de Bacharelado.\n",
        "\n",
        "nota_integral_bacharelado = grau.get_group('Bacharelado')['nota_integral_ampla'].describe()\n",
        "nota_integral_bacharelado"
      ],
      "metadata": {
        "id": "s4LDb-JD1AtX"
      },
      "execution_count": null,
      "outputs": []
    },
    {
      "cell_type": "code",
      "source": [
        "# J) Gráfico comparativo entre o grau dos cursos (Bacharelado, Licenciatura, Tecnologia, etc) pelas Notas Integral de Cotas.\n",
        "\n",
        "import matplotlib.pyplot as plot\n",
        "\n",
        "\n",
        "curso_integral = df.groupby('grau')['nota_integral_cotas'].mean()\n",
        "curso_integral.plot.bar(x='grau', y='nota_integral_cotas')\n",
        "plot.xlabel('Cursos')\n",
        "plot.ylabel('Notas')"
      ],
      "metadata": {
        "id": "aSl7X7YV1GeZ"
      },
      "execution_count": null,
      "outputs": []
    }
  ]
}